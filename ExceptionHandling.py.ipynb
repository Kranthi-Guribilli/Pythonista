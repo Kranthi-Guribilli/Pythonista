{
 "cells": [
  {
   "cell_type": "code",
   "execution_count": 3,
   "id": "1e1b84c1",
   "metadata": {},
   "outputs": [
    {
     "name": "stdout",
     "output_type": "stream",
     "text": [
      "1.5555555555555556\n",
      "0.9767441860465116\n",
      "Error: Invalid argument.\n",
      "None\n",
      "21.0\n"
     ]
    }
   ],
   "source": [
    "#Exception Handling\n",
    "def spam(divideBy):\n",
    "    try:\n",
    "        return 42/divideBy\n",
    "    except ZeroDivisionError:\n",
    "        print('Error: Invalid argument.')\n",
    "print(spam(27))\n",
    "print(spam(43))\n",
    "print(spam(0))\n",
    "print(spam(2))"
   ]
  },
  {
   "cell_type": "code",
   "execution_count": 5,
   "id": "453c2409",
   "metadata": {},
   "outputs": [
    {
     "name": "stdout",
     "output_type": "stream",
     "text": [
      "21.0\n",
      "3.5\n",
      "Error: Invalid argument.\n"
     ]
    },
    {
     "data": {
      "text/plain": [
       "'Note: Once the execution jumps to the code in the except clause,\\nit does not return to the try clause. Instead, it just continues moving\\ndown as normal. '"
      ]
     },
     "execution_count": 5,
     "metadata": {},
     "output_type": "execute_result"
    }
   ],
   "source": [
    "def spam(divideBy):\n",
    "    return 42/divideBy\n",
    "try:\n",
    "    print(spam(2))\n",
    "    print(spam(12))\n",
    "    print(spam(0))\n",
    "    print(spam(1))\n",
    "except ZeroDivisionError:\n",
    "    print('Error: Invalid argument.')\n",
    "''' Note: Once the execution jumps to the code in the except clause,\n",
    "it does not return to the try clause. Instead, it just continues moving\n",
    "down as normal. '''"
   ]
  },
  {
   "cell_type": "code",
   "execution_count": null,
   "id": "0436fce9",
   "metadata": {},
   "outputs": [],
   "source": []
  }
 ],
 "metadata": {
  "kernelspec": {
   "display_name": "Python 3 (ipykernel)",
   "language": "python",
   "name": "python3"
  },
  "language_info": {
   "codemirror_mode": {
    "name": "ipython",
    "version": 3
   },
   "file_extension": ".py",
   "mimetype": "text/x-python",
   "name": "python",
   "nbconvert_exporter": "python",
   "pygments_lexer": "ipython3",
   "version": "3.9.7"
  }
 },
 "nbformat": 4,
 "nbformat_minor": 5
}
