{
 "cells": [
  {
   "cell_type": "markdown",
   "id": "509db8d4",
   "metadata": {},
   "source": [
    "# Finding patterns of text with regular expressions"
   ]
  },
  {
   "cell_type": "code",
   "execution_count": 4,
   "id": "134e4a1a",
   "metadata": {},
   "outputs": [
    {
     "name": "stdout",
     "output_type": "stream",
     "text": [
      "Phone number found: 414-555-424\n"
     ]
    }
   ],
   "source": [
    "import re\n",
    "phoneNumRegex=re.compile(r'\\d{3}-\\d{3}-\\d{3}')\n",
    "match_objects=phoneNumRegex.search('My number is 414-555-4242.')\n",
    "print('Phone number found: '+match_objects.group())"
   ]
  },
  {
   "cell_type": "code",
   "execution_count": null,
   "id": "0c205e72",
   "metadata": {},
   "outputs": [],
   "source": []
  }
 ],
 "metadata": {
  "kernelspec": {
   "display_name": "Python 3 (ipykernel)",
   "language": "python",
   "name": "python3"
  },
  "language_info": {
   "codemirror_mode": {
    "name": "ipython",
    "version": 3
   },
   "file_extension": ".py",
   "mimetype": "text/x-python",
   "name": "python",
   "nbconvert_exporter": "python",
   "pygments_lexer": "ipython3",
   "version": "3.9.7"
  }
 },
 "nbformat": 4,
 "nbformat_minor": 5
}
