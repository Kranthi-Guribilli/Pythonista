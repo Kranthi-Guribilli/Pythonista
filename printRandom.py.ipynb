{
 "cells": [
  {
   "cell_type": "code",
   "execution_count": 3,
   "id": "2b83c4cd",
   "metadata": {},
   "outputs": [
    {
     "name": "stdout",
     "output_type": "stream",
     "text": [
      "5\n",
      "9\n",
      "7\n",
      "8\n",
      "6\n"
     ]
    }
   ],
   "source": [
    "import random\n",
    "for i in range(5):\n",
    "    print(random.randint(1,10))"
   ]
  },
  {
   "cell_type": "code",
   "execution_count": null,
   "id": "21bdade9",
   "metadata": {},
   "outputs": [],
   "source": [
    "from random import *\n",
    "for i in range(5):\n",
    "    print(randint(1,10))#calls to functions won't need the prefix random."
   ]
  },
  {
   "cell_type": "code",
   "execution_count": null,
   "id": "1acfded5",
   "metadata": {},
   "outputs": [],
   "source": [
    "#ending a program early with sys.exit()\n",
    "import sys\n",
    "while True:\n",
    "    print('Type exit to exit.')\n",
    "    response=input()\n",
    "    if response=='exit':\n",
    "        sys.exit()\n",
    "    print('You typed '+response+'.')"
   ]
  },
  {
   "cell_type": "code",
   "execution_count": null,
   "id": "099cecba",
   "metadata": {},
   "outputs": [],
   "source": []
  },
  {
   "cell_type": "code",
   "execution_count": null,
   "id": "53a5c1cc",
   "metadata": {},
   "outputs": [],
   "source": []
  },
  {
   "cell_type": "code",
   "execution_count": null,
   "id": "799fb6c0",
   "metadata": {},
   "outputs": [],
   "source": []
  }
 ],
 "metadata": {
  "kernelspec": {
   "display_name": "Python 3 (ipykernel)",
   "language": "python",
   "name": "python3"
  },
  "language_info": {
   "codemirror_mode": {
    "name": "ipython",
    "version": 3
   },
   "file_extension": ".py",
   "mimetype": "text/x-python",
   "name": "python",
   "nbconvert_exporter": "python",
   "pygments_lexer": "ipython3",
   "version": "3.9.7"
  }
 },
 "nbformat": 4,
 "nbformat_minor": 5
}
