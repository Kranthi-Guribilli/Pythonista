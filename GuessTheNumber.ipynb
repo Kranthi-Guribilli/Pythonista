{
 "cells": [
  {
   "cell_type": "code",
   "execution_count": 1,
   "id": "b107012c",
   "metadata": {},
   "outputs": [
    {
     "name": "stdout",
     "output_type": "stream",
     "text": [
      "I'm thinking of a number between 1 and 20.\n",
      "Take a guess: 5\n",
      "Your guess is too high.\n",
      "Take a guess: 3\n",
      "Your guess is too high.\n",
      "Take a guess: 2\n",
      "Your guess is too high.\n",
      "Take a guess: 1\n",
      "Good job! You guessed my number in 4 guesses!\n"
     ]
    }
   ],
   "source": [
    "#Game: Guess the number\n",
    "#Constraint: You should guess the number within 7 attempts:)\n",
    "import random\n",
    "secretNumber=random.randint(1,20)\n",
    "print('I\\'m thinking of a number between 1 and 20.')\n",
    "\n",
    "\n",
    "#Ask player for take a guess\n",
    "for guessesTaken in range(1,7):\n",
    "    print('Take a guess:', end=' ')\n",
    "    guess=int(input())\n",
    "    \n",
    "    if guess==secretNumber:\n",
    "        break #correct guess\n",
    "    elif guess>secretNumber:\n",
    "        print('Your guess is too high.')\n",
    "    else:\n",
    "        print('Your guess is too low.')\n",
    "if guess==secretNumber:\n",
    "    print('Good job! You guessed my number in '+str(guessesTaken)+' guesses!')\n",
    "else:\n",
    "    print('Nope. The number I was thinking of was '+str(secretNumber))\n",
    "    "
   ]
  },
  {
   "cell_type": "code",
   "execution_count": null,
   "id": "17e34c31",
   "metadata": {},
   "outputs": [],
   "source": []
  }
 ],
 "metadata": {
  "kernelspec": {
   "display_name": "Python 3 (ipykernel)",
   "language": "python",
   "name": "python3"
  },
  "language_info": {
   "codemirror_mode": {
    "name": "ipython",
    "version": 3
   },
   "file_extension": ".py",
   "mimetype": "text/x-python",
   "name": "python",
   "nbconvert_exporter": "python",
   "pygments_lexer": "ipython3",
   "version": "3.9.7"
  }
 },
 "nbformat": 4,
 "nbformat_minor": 5
}
