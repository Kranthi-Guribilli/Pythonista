{
 "cells": [
  {
   "cell_type": "markdown",
   "id": "46a09317",
   "metadata": {},
   "source": [
    "### For loop and range function.\n",
    "* The range function can be called with either two or three arguments. Where the first two arguments are the and stop values.And the third will be the step argument.\n",
    "* The step argument is thee amount that the variable increased by after each iteration."
   ]
  },
  {
   "cell_type": "code",
   "execution_count": 7,
   "id": "fc1c942f",
   "metadata": {},
   "outputs": [
    {
     "name": "stdout",
     "output_type": "stream",
     "text": [
      "2\n",
      "4\n",
      "6\n",
      "8\n",
      "10\n",
      "12\n",
      "14\n",
      "16\n",
      "18\n",
      "20\n",
      "22\n",
      "24\n"
     ]
    }
   ],
   "source": [
    "for i in range(2,25,2):\n",
    "    print(i)# prints even numbers between 2 and 25."
   ]
  },
  {
   "cell_type": "code",
   "execution_count": null,
   "id": "31f2e0b3",
   "metadata": {},
   "outputs": [],
   "source": []
  }
 ],
 "metadata": {
  "kernelspec": {
   "display_name": "Python 3 (ipykernel)",
   "language": "python",
   "name": "python3"
  },
  "language_info": {
   "codemirror_mode": {
    "name": "ipython",
    "version": 3
   },
   "file_extension": ".py",
   "mimetype": "text/x-python",
   "name": "python",
   "nbconvert_exporter": "python",
   "pygments_lexer": "ipython3",
   "version": "3.9.7"
  }
 },
 "nbformat": 4,
 "nbformat_minor": 5
}
