{
 "cells": [
  {
   "cell_type": "code",
   "execution_count": 4,
   "id": "1f375aa1",
   "metadata": {},
   "outputs": [
    {
     "name": "stdout",
     "output_type": "stream",
     "text": [
      "Concentrate and ask again\n"
     ]
    }
   ],
   "source": [
    "import random\n",
    "messages = ['It is certain',\n",
    " 'It is decidedly so',\n",
    " 'Yes definitely',\n",
    " 'Reply hazy try again',\n",
    " 'Ask again later',\n",
    " 'Concentrate and ask again',\n",
    " 'My reply is no',\n",
    " 'Outlook not so good',\n",
    " 'Very doubtful']\n",
    "print(messages[random.randint(0, len(messages) - 1)])\n"
   ]
  },
  {
   "cell_type": "code",
   "execution_count": 6,
   "id": "e593f3a6",
   "metadata": {},
   "outputs": [
    {
     "name": "stdout",
     "output_type": "stream",
     "text": [
      "* * * * S * * * *\n",
      "* * * * a * * * *\n",
      "* * * * t * * * *\n",
      "* * * * y * * * *\n",
      "* * * * a * * * *\n",
      "* * * * S * * * *\n",
      "* * * * i * * * *\n",
      "* * * * v * * * *\n",
      "* * * * a * * * *\n",
      "* * * * S * * * *\n",
      "* * * * a * * * *\n",
      "* * * * i * * * *\n"
     ]
    }
   ],
   "source": [
    "#List-like types: Strings and Tuples\n",
    "name='SatyaSivaSai'\n",
    "for i in name:\n",
    "    print('* * * * '+i+' * * * *')"
   ]
  },
  {
   "cell_type": "code",
   "execution_count": null,
   "id": "df7816c0",
   "metadata": {},
   "outputs": [],
   "source": []
  }
 ],
 "metadata": {
  "kernelspec": {
   "display_name": "Python 3 (ipykernel)",
   "language": "python",
   "name": "python3"
  },
  "language_info": {
   "codemirror_mode": {
    "name": "ipython",
    "version": 3
   },
   "file_extension": ".py",
   "mimetype": "text/x-python",
   "name": "python",
   "nbconvert_exporter": "python",
   "pygments_lexer": "ipython3",
   "version": "3.9.7"
  }
 },
 "nbformat": 4,
 "nbformat_minor": 5
}
