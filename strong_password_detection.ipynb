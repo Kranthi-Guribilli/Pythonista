{
 "cells": [
  {
   "cell_type": "markdown",
   "id": "2e25b45b",
   "metadata": {},
   "source": [
    "# Strong password detection\n",
    "* A strong password is defined as one\n",
    "  that is at least eight characters long,\n",
    "  contains both uppercase and lowercase characters,\n",
    "  and has at least one digit.\n",
    "  You may need to test the string against multiple regex patterns to validate its strength.\n",
    "'''"
   ]
  },
  {
   "cell_type": "code",
   "execution_count": 5,
   "id": "ef5701c4",
   "metadata": {},
   "outputs": [
    {
     "name": "stdout",
     "output_type": "stream",
     "text": [
      "Enter your password: aA@02825059bf84d2f2a\n",
      "Good, your password is strong!\n"
     ]
    }
   ],
   "source": [
    "import re\n",
    "def fun_detection(password):\n",
    "    if(len(password)<8):\n",
    "        return False\n",
    "    elif re.search('[0-9]|[A-Z]|[a-z]',password) is None:\n",
    "        return False\n",
    "    else:\n",
    "        return True\n",
    "\n",
    "if __name__=='__main__':\n",
    "    password=input('Enter your password: ')\n",
    "    if fun_detection(password):\n",
    "        print('Good, your password is strong!')\n",
    "    else:\n",
    "        print('''The password should at least have eight characters,\n",
    "        contains both uppercase and lowercase characters, and has at least one digit''')"
   ]
  },
  {
   "cell_type": "code",
   "execution_count": null,
   "id": "dc0762ae",
   "metadata": {},
   "outputs": [],
   "source": []
  }
 ],
 "metadata": {
  "kernelspec": {
   "display_name": "Python 3 (ipykernel)",
   "language": "python",
   "name": "python3"
  },
  "language_info": {
   "codemirror_mode": {
    "name": "ipython",
    "version": 3
   },
   "file_extension": ".py",
   "mimetype": "text/x-python",
   "name": "python",
   "nbconvert_exporter": "python",
   "pygments_lexer": "ipython3",
   "version": "3.9.7"
  }
 },
 "nbformat": 4,
 "nbformat_minor": 5
}
